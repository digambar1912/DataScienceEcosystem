{
  "metadata": {
    "kernelspec": {
      "name": "python",
      "display_name": "Python (Pyodide)",
      "language": "python"
    },
    "language_info": {
      "codemirror_mode": {
        "name": "python",
        "version": 3
      },
      "file_extension": ".py",
      "mimetype": "text/x-python",
      "name": "python",
      "nbconvert_exporter": "python",
      "pygments_lexer": "ipython3",
      "version": "3.8"
    }
  },
  "nbformat_minor": 4,
  "nbformat": 4,
  "cells": [
    {
      "cell_type": "markdown",
      "source": "<h1> Data Science Tools and Ecosystem </h1>",
      "metadata": {}
    },
    {
      "cell_type": "markdown",
      "source": "<h2> In this notebook, Data Science Tools and Ecosystem are summarized</h2>",
      "metadata": {}
    },
    {
      "cell_type": "markdown",
      "source": "<b>Objectives:</b>\n<ul>\n<li>List popular languages for Data Science</li>\n<li>Commonly used libraries used by Data Scientists</li>\n<li>Table</li>\n<li>Arithmetic expressions in Python</li>\n</ul>",
      "metadata": {}
    },
    {
      "cell_type": "markdown",
      "source": "<h3>Some of the popular languages that Data Scientists use are:</h3>\n<ul>\n<li>phython</li>\n<li>R</li>\n<li>Java</li>\n<li>Scala</li>\n</ul>",
      "metadata": {}
    },
    {
      "cell_type": "markdown",
      "source": "<h3>Some of the commonly used libraries used by Data Scientists include:</h3>\n<ul>\n<li>NumPy</li>\n<li>Matplotlib</li>\n<li>Pandas</li>\n<li>TensorFlow</li>\n</ul>",
      "metadata": {}
    },
    {
      "cell_type": "markdown",
      "source": "<table style=\"width:50%\" >\n<tr>\n    <td>\n<h2>Data Science Tools</h2>\n    </td>\n</tr>\n    \n<tr>\n<td>Jupyter Notebook</td>\n</tr>\n    \n<tr>\n<td>RStudio</td>\n</tr>\n    \n<tr>\n<td>Spyder</td>\n</tr>\n    \n</table>",
      "metadata": {}
    },
    {
      "cell_type": "markdown",
      "source": "<h3>Below are a few examples of evaluating arithmetic expressions in Python</h3>",
      "metadata": {}
    },
    {
      "cell_type": "code",
      "source": "# Arithmetic Expressions \nx = 10\ny = 79\n  \naddition = x + y \n  \nprint(\"X + Y =\" ,addition) ",
      "metadata": {
        "trusted": true
      },
      "outputs": [
        {
          "name": "stdout",
          "text": "X + Y = 89\n",
          "output_type": "stream"
        }
      ],
      "execution_count": 6
    },
    {
      "cell_type": "code",
      "source": "print(\"This a simple arithmetic expression to mutiply then add integers\")\n\nx= (3*4)+5\n\nprint(x)",
      "metadata": {
        "trusted": true
      },
      "outputs": [
        {
          "name": "stdout",
          "text": "This a simple arithmetic expression to mutiply then add integers\n17\n",
          "output_type": "stream"
        }
      ],
      "execution_count": 8
    },
    {
      "cell_type": "code",
      "source": "print(\"This will convert 200 minutes to hours by diving by 60\")\nmin=200\nh=min//60\nm=min%60\nprint(\"Hours=\",h)\nprint(\"Minutes=\",m)",
      "metadata": {
        "trusted": true
      },
      "outputs": [
        {
          "name": "stdout",
          "text": "This will convert 200 minutes to hours by diving by 60\nHours= 3\nMinutes= 20\n",
          "output_type": "stream"
        }
      ],
      "execution_count": 5
    },
    {
      "cell_type": "markdown",
      "source": "<h2>Author</h2>\nDigambar More",
      "metadata": {}
    },
    {
      "cell_type": "code",
      "source": "",
      "metadata": {
        "trusted": true
      },
      "outputs": [],
      "execution_count": null
    }
  ]
}