{
  "metadata": {
    "kernelspec": {
      "name": "python",
      "display_name": "Python (Pyodide)",
      "language": "python"
    },
    "language_info": {
      "codemirror_mode": {
        "name": "python",
        "version": 3
      },
      "file_extension": ".py",
      "mimetype": "text/x-python",
      "name": "python",
      "nbconvert_exporter": "python",
      "pygments_lexer": "ipython3",
      "version": "3.8"
    }
  },
  "nbformat_minor": 4,
  "nbformat": 4,
  "cells": [
    {
      "cell_type": "markdown",
      "source": "<h1> Data Science Tools and Ecosystem </h1>",
      "metadata": {}
    },
    {
      "cell_type": "markdown",
      "source": "<h2> In this notebook, Data Science Tools and Ecosystem are summarized</h2>",
      "metadata": {}
    },
    {
      "cell_type": "markdown",
      "source": "<b>Objectives:</b>\n<ul>\n<li>Create Markdown cells</li>\n<li>Create the Ordered List and Unorder list in markdown cells</li>\n<li>Add Table in Markdown cells</li>\n<li>Add Markdown cells with headlining styles</li>\n<li>Arithmetic expressions in Python</li>\n</ul>",
      "metadata": {}
    },
    {
      "cell_type": "markdown",
      "source": "<h3>Some of the popular languages that Data Scientists use are:</h3>\n<ol>\n<li>phython</li>\n<li>R</li>\n<li>Java</li>\n<li>Scala</li>\n<li>SQL</li>\n</ol>",
      "metadata": {}
    },
    {
      "cell_type": "markdown",
      "source": "<h3>Some of the commonly used libraries used by Data Scientists include:</h3>\n<ol>\n<li>NumPy</li>\n<li>Matplotlib</li>\n<li>Pandas</li>\n<li>TensorFlow</li>\n<li>Big DL</li>\n<li>Apache Spark</li>\n</ol>",
      "metadata": {},
      "attachments": {}
    },
    {
      "cell_type": "markdown",
      "source": "<table style=\"width:20%\" >\n<tr>\n    <td>\n<h2>Data Science Tools</h2>\n    </td>\n</tr>    \n<tr>\n<td>Jupyter Notebook</td>\n</tr>    \n<tr>\n<td>R Studio</td>\n</tr>    \n<tr>\n<td>Spyder</td>\n</tr>\n<tr>\n<td>Anaconda</td>\n</tr>\n<tr>\n<td>zeppelin</td>\n</tr>    \n</table>",
      "metadata": {},
      "attachments": {}
    },
    {
      "cell_type": "markdown",
      "source": "<h3>Below are a few examples of evaluating arithmetic expressions in Python</h3>",
      "metadata": {}
    },
    {
      "cell_type": "code",
      "source": "print(\"This a simple arithmetic expression to mutiply then add integers\")\nx= (3*4)+5\nprint(x)",
      "metadata": {
        "trusted": true
      },
      "outputs": [
        {
          "name": "stdout",
          "text": "This a simple arithmetic expression to mutiply then add integers\n17\n",
          "output_type": "stream"
        }
      ],
      "execution_count": 11
    },
    {
      "cell_type": "code",
      "source": "print(\"This will convert 200 minutes to hours by diving by 60\")\nmin=200\nh=min//60\nm=min%60\nprint(\"Hours=\",h)\nprint(\"Minutes=\",m)",
      "metadata": {
        "trusted": true
      },
      "outputs": [
        {
          "name": "stdout",
          "text": "This will convert 200 minutes to hours by diving by 60\nHours= 3\nMinutes= 20\n",
          "output_type": "stream"
        }
      ],
      "execution_count": 12
    },
    {
      "cell_type": "markdown",
      "source": "<h2>Author</h2>\nDigambar More",
      "metadata": {}
    },
    {
      "cell_type": "code",
      "source": "",
      "metadata": {
        "trusted": true
      },
      "outputs": [],
      "execution_count": null
    }
  ]
}